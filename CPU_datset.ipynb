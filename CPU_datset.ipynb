{
  "nbformat": 4,
  "nbformat_minor": 0,
  "metadata": {
    "colab": {
      "name": "CPU_datset",
      "provenance": [],
      "collapsed_sections": [],
      "include_colab_link": true
    },
    "kernelspec": {
      "name": "python3",
      "display_name": "Python 3"
    },
    "language_info": {
      "name": "python"
    }
  },
  "cells": [
    {
      "cell_type": "markdown",
      "metadata": {
        "id": "view-in-github",
        "colab_type": "text"
      },
      "source": [
        "<a href=\"https://colab.research.google.com/github/erickqc2022/2t_354/blob/main/CPU_datset.ipynb\" target=\"_parent\"><img src=\"https://colab.research.google.com/assets/colab-badge.svg\" alt=\"Open In Colab\"/></a>"
      ]
    },
    {
      "cell_type": "code",
      "source": [
        "%matplotlib inline\n",
        "import matplotlib.pyplot as plt\n",
        "import numpy\n",
        "import pandas\n",
        "import seaborn \n",
        "import statistics as stats"
      ],
      "metadata": {
        "id": "dX0LfNgpP0pe"
      },
      "execution_count": null,
      "outputs": []
    },
    {
      "cell_type": "code",
      "source": [
        "from google.colab import drive\n",
        "drive.mount('/content/drive')\n",
        "import os\n",
        "os.chdir(\"/content/drive/MyDrive/pdatos\")\n",
        "!ls"
      ],
      "metadata": {
        "id": "buWv5nMNiVpf",
        "colab": {
          "base_uri": "https://localhost:8080/"
        },
        "outputId": "c2759a4e-e343-48c9-b264-b7cf5e271531"
      },
      "execution_count": null,
      "outputs": [
        {
          "output_type": "stream",
          "name": "stdout",
          "text": [
            "Mounted at /content/drive\n",
            "cpu.csv  data_t.csv  datos_d.csv  dis2.csv  tiro.csv\n"
          ]
        }
      ]
    },
    {
      "cell_type": "code",
      "source": [
        "import numpy as np\n",
        "import pandas as pd\n",
        "data = pd.read_csv(\"/content/drive/MyDrive/pdatos/cpu.csv\")\n",
        "X=data[0:8]\n",
        "y=data['clase']\n",
        "#print(y)\n",
        "print(X)\n",
        "from sklearn.model_selection import train_test_split, ShuffleSplit\n",
        "from sklearn.neural_network import MLPClassifier\n",
        "#model = MLPClassifier(hidden_layer_sizes=(2126,) , max_iter=1000)\n",
        "#model.fit(X, y)"
      ],
      "metadata": {
        "colab": {
          "base_uri": "https://localhost:8080/"
        },
        "id": "uWgPs5dc3Iuw",
        "outputId": "0fd7461f-8ca3-4048-98d0-4f1f42eaf59d"
      },
      "execution_count": null,
      "outputs": [
        {
          "output_type": "stream",
          "name": "stdout",
          "text": [
            "      a0     a1     a2     a3     a4     a5     a6     a7     a8     a9 clase\n",
            "0   True  False  False  False   True  False   True   True   True   True    c0\n",
            "1   True   True  False  False  False   True   True  False   True   True    c0\n",
            "2  False  False   True   True  False   True  False  False  False  False    c1\n",
            "3  False   True  False   True   True  False   True   True  False  False    c0\n",
            "4   True   True  False  False  False   True   True  False  False   True    c0\n",
            "5   True   True   True   True  False  False   True  False   True   True    c1\n",
            "6   True   True  False   True   True  False   True  False  False   True    c0\n",
            "7  False  False   True  False   True   True  False   True  False   True    c1\n"
          ]
        }
      ]
    },
    {
      "cell_type": "code",
      "source": [
        "#Informacion del dataset\n",
        "data.info()"
      ],
      "metadata": {
        "colab": {
          "base_uri": "https://localhost:8080/"
        },
        "id": "7Q4r1LS3QJwP",
        "outputId": "553753e9-f014-4db3-9e78-7d71ca00cece"
      },
      "execution_count": null,
      "outputs": [
        {
          "output_type": "stream",
          "name": "stdout",
          "text": [
            "<class 'pandas.core.frame.DataFrame'>\n",
            "RangeIndex: 100 entries, 0 to 99\n",
            "Data columns (total 11 columns):\n",
            " #   Column  Non-Null Count  Dtype \n",
            "---  ------  --------------  ----- \n",
            " 0   a0      100 non-null    bool  \n",
            " 1   a1      100 non-null    bool  \n",
            " 2   a2      100 non-null    bool  \n",
            " 3   a3      100 non-null    bool  \n",
            " 4   a4      100 non-null    bool  \n",
            " 5   a5      100 non-null    bool  \n",
            " 6   a6      100 non-null    bool  \n",
            " 7   a7      100 non-null    bool  \n",
            " 8   a8      100 non-null    bool  \n",
            " 9   a9      100 non-null    bool  \n",
            " 10  clase   100 non-null    object\n",
            "dtypes: bool(10), object(1)\n",
            "memory usage: 1.9+ KB\n"
          ]
        }
      ]
    },
    {
      "cell_type": "code",
      "source": [
        "dataset=data.values"
      ],
      "metadata": {
        "id": "OdXNY5sLfjgF"
      },
      "execution_count": null,
      "outputs": []
    },
    {
      "cell_type": "code",
      "source": [
        "dataset"
      ],
      "metadata": {
        "colab": {
          "base_uri": "https://localhost:8080/"
        },
        "id": "Uz033mIHfrId",
        "outputId": "d2ca7f4a-ece9-4bc4-acba-a8f35a0933ea"
      },
      "execution_count": null,
      "outputs": [
        {
          "output_type": "execute_result",
          "data": {
            "text/plain": [
              "array([[True, False, False, ..., True, True, 'c0'],\n",
              "       [True, True, False, ..., True, True, 'c0'],\n",
              "       [False, False, True, ..., False, False, 'c1'],\n",
              "       ...,\n",
              "       [True, False, False, ..., True, True, 'c0'],\n",
              "       [False, True, True, ..., False, False, 'c0'],\n",
              "       [True, False, True, ..., False, True, 'c0']], dtype=object)"
            ]
          },
          "metadata": {},
          "execution_count": 84
        }
      ]
    },
    {
      "cell_type": "code",
      "source": [
        "X = dataset[:,3:10]\n",
        "Y = dataset[:,10]"
      ],
      "metadata": {
        "id": "3WcC9vg5fw2c"
      },
      "execution_count": null,
      "outputs": []
    },
    {
      "cell_type": "markdown",
      "source": [
        "**Elegimos 0 y 1 intencionalmente para ayudar al entrenamiento de nuestra red neuronal.**"
      ],
      "metadata": {
        "id": "yaAfxW-wgpEi"
      }
    },
    {
      "cell_type": "code",
      "source": [
        "from sklearn import preprocessing\n",
        "min_max_scaler = preprocessing.MinMaxScaler()\n",
        "X_scale = min_max_scaler.fit_transform(X)"
      ],
      "metadata": {
        "id": "ARZlQiqbgE-4"
      },
      "execution_count": null,
      "outputs": []
    },
    {
      "cell_type": "code",
      "source": [
        "X_scale"
      ],
      "metadata": {
        "colab": {
          "base_uri": "https://localhost:8080/"
        },
        "id": "NE9CUkpkgJtM",
        "outputId": "68ca214b-ccbd-422d-81cf-47cd16981101"
      },
      "execution_count": null,
      "outputs": [
        {
          "output_type": "execute_result",
          "data": {
            "text/plain": [
              "array([[0., 1., 0., 1., 1., 1., 1.],\n",
              "       [0., 0., 1., 1., 0., 1., 1.],\n",
              "       [1., 0., 1., 0., 0., 0., 0.],\n",
              "       [1., 1., 0., 1., 1., 0., 0.],\n",
              "       [0., 0., 1., 1., 0., 0., 1.],\n",
              "       [1., 0., 0., 1., 0., 1., 1.],\n",
              "       [1., 1., 0., 1., 0., 0., 1.],\n",
              "       [0., 1., 1., 0., 1., 0., 1.],\n",
              "       [1., 0., 1., 0., 1., 1., 1.],\n",
              "       [1., 1., 1., 1., 1., 0., 1.],\n",
              "       [0., 0., 1., 1., 0., 1., 0.],\n",
              "       [0., 1., 0., 0., 0., 0., 1.],\n",
              "       [1., 1., 1., 0., 0., 0., 0.],\n",
              "       [1., 1., 1., 0., 0., 1., 0.],\n",
              "       [1., 1., 0., 0., 0., 1., 0.],\n",
              "       [1., 0., 0., 1., 0., 0., 0.],\n",
              "       [0., 0., 1., 1., 1., 0., 1.],\n",
              "       [1., 0., 1., 0., 1., 0., 0.],\n",
              "       [0., 0., 0., 0., 0., 1., 1.],\n",
              "       [1., 0., 1., 1., 0., 0., 1.],\n",
              "       [1., 1., 1., 0., 1., 1., 0.],\n",
              "       [1., 1., 0., 0., 0., 0., 1.],\n",
              "       [1., 0., 0., 0., 0., 1., 1.],\n",
              "       [0., 1., 0., 0., 0., 0., 0.],\n",
              "       [0., 0., 1., 0., 0., 1., 1.],\n",
              "       [1., 0., 0., 1., 0., 1., 0.],\n",
              "       [1., 0., 1., 0., 1., 1., 1.],\n",
              "       [1., 1., 1., 1., 1., 0., 0.],\n",
              "       [1., 1., 1., 1., 1., 1., 0.],\n",
              "       [1., 0., 0., 1., 0., 0., 1.],\n",
              "       [0., 1., 1., 1., 0., 0., 0.],\n",
              "       [1., 0., 0., 0., 1., 1., 1.],\n",
              "       [0., 0., 0., 1., 1., 1., 0.],\n",
              "       [1., 0., 1., 0., 1., 0., 1.],\n",
              "       [0., 0., 1., 0., 0., 1., 1.],\n",
              "       [0., 1., 0., 0., 0., 0., 0.],\n",
              "       [1., 1., 0., 0., 0., 1., 0.],\n",
              "       [0., 0., 0., 1., 0., 0., 0.],\n",
              "       [1., 0., 0., 0., 1., 0., 1.],\n",
              "       [1., 1., 1., 1., 1., 0., 0.],\n",
              "       [1., 0., 1., 0., 1., 0., 1.],\n",
              "       [1., 1., 1., 0., 1., 1., 1.],\n",
              "       [0., 1., 0., 0., 0., 0., 1.],\n",
              "       [1., 1., 0., 0., 0., 0., 1.],\n",
              "       [0., 0., 0., 0., 1., 0., 1.],\n",
              "       [0., 0., 0., 1., 0., 1., 0.],\n",
              "       [1., 1., 1., 0., 0., 1., 0.],\n",
              "       [1., 0., 1., 1., 0., 1., 1.],\n",
              "       [1., 1., 1., 0., 1., 0., 1.],\n",
              "       [1., 1., 1., 1., 1., 0., 0.],\n",
              "       [0., 0., 1., 1., 0., 1., 0.],\n",
              "       [0., 1., 0., 0., 1., 1., 1.],\n",
              "       [0., 1., 0., 1., 1., 1., 1.],\n",
              "       [0., 1., 1., 1., 0., 0., 1.],\n",
              "       [1., 1., 1., 0., 0., 1., 1.],\n",
              "       [1., 0., 1., 1., 0., 1., 1.],\n",
              "       [1., 1., 0., 1., 1., 0., 0.],\n",
              "       [1., 1., 1., 0., 1., 1., 1.],\n",
              "       [1., 0., 1., 0., 1., 1., 1.],\n",
              "       [1., 0., 1., 0., 1., 0., 0.],\n",
              "       [0., 0., 0., 0., 1., 0., 0.],\n",
              "       [1., 0., 0., 0., 0., 0., 1.],\n",
              "       [0., 0., 1., 0., 1., 0., 1.],\n",
              "       [1., 1., 0., 1., 0., 1., 0.],\n",
              "       [0., 1., 1., 0., 0., 1., 1.],\n",
              "       [1., 0., 1., 0., 1., 0., 1.],\n",
              "       [0., 1., 1., 0., 1., 1., 0.],\n",
              "       [0., 0., 1., 0., 1., 0., 0.],\n",
              "       [1., 0., 1., 1., 0., 1., 1.],\n",
              "       [1., 0., 1., 1., 1., 1., 0.],\n",
              "       [0., 0., 0., 1., 1., 0., 0.],\n",
              "       [0., 0., 0., 1., 0., 1., 0.],\n",
              "       [1., 0., 0., 0., 1., 1., 0.],\n",
              "       [1., 1., 0., 1., 1., 0., 0.],\n",
              "       [0., 0., 0., 0., 1., 0., 0.],\n",
              "       [0., 0., 0., 1., 1., 0., 1.],\n",
              "       [1., 0., 1., 1., 0., 1., 0.],\n",
              "       [1., 1., 1., 1., 1., 0., 1.],\n",
              "       [0., 0., 1., 0., 0., 0., 1.],\n",
              "       [1., 0., 1., 0., 0., 0., 0.],\n",
              "       [1., 0., 1., 1., 0., 0., 1.],\n",
              "       [0., 0., 1., 0., 1., 0., 0.],\n",
              "       [1., 0., 1., 1., 0., 1., 0.],\n",
              "       [0., 1., 1., 1., 1., 1., 0.],\n",
              "       [1., 0., 1., 0., 1., 1., 0.],\n",
              "       [1., 1., 0., 1., 0., 1., 1.],\n",
              "       [0., 0., 1., 0., 1., 0., 0.],\n",
              "       [1., 1., 1., 1., 0., 1., 0.],\n",
              "       [1., 1., 1., 0., 0., 1., 0.],\n",
              "       [1., 1., 0., 1., 0., 1., 0.],\n",
              "       [1., 1., 1., 0., 0., 0., 1.],\n",
              "       [1., 1., 1., 0., 1., 1., 0.],\n",
              "       [1., 0., 0., 0., 1., 1., 0.],\n",
              "       [0., 0., 0., 1., 1., 0., 0.],\n",
              "       [0., 1., 0., 0., 0., 1., 1.],\n",
              "       [1., 1., 0., 0., 1., 0., 1.],\n",
              "       [1., 1., 0., 1., 1., 0., 1.],\n",
              "       [0., 0., 0., 0., 1., 1., 1.],\n",
              "       [0., 1., 1., 1., 0., 0., 0.],\n",
              "       [1., 0., 0., 0., 1., 0., 1.]])"
            ]
          },
          "metadata": {},
          "execution_count": 87
        }
      ]
    },
    {
      "cell_type": "markdown",
      "source": [
        "Luego, divide tu conjunto de datos de esta manera:"
      ],
      "metadata": {
        "id": "BtU7ex55gSp7"
      }
    },
    {
      "cell_type": "code",
      "source": [
        "from sklearn.model_selection import train_test_split\n",
        "X_train, X_val_and_test, Y_train, Y_val_and_test = train_test_split(X_scale, Y, test_size=0.3)"
      ],
      "metadata": {
        "id": "nTC82KvygPOc"
      },
      "execution_count": null,
      "outputs": []
    },
    {
      "cell_type": "markdown",
      "source": [
        "Dividirá el tamaño de val_and_test en partes iguales para el conjunto de validación y el conjunto de prueba."
      ],
      "metadata": {
        "id": "8TTwg9Y1hJV9"
      }
    },
    {
      "cell_type": "code",
      "source": [
        "X_val, X_test, Y_val, Y_test = train_test_split(X_val_and_test, Y_val_and_test, test_size=0.5)"
      ],
      "metadata": {
        "id": "uAq5Q2RphAD8"
      },
      "execution_count": null,
      "outputs": []
    },
    {
      "cell_type": "markdown",
      "source": [
        "X_train (10 características de entrada, 70 % del conjunto de datos completo)\n",
        "X_val (10 características de entrada, 15 % del conjunto de datos completo)\n",
        "X_test (10 características de entrada, 15 % del conjunto de datos completo)\n",
        "Y_train (1 etiqueta, 70 % del conjunto de datos completo)\n",
        "Y_val (1 etiqueta, 15 % del conjunto de datos completo)\n",
        "Y_test (1 etiqueta, 15 % del conjunto de datos completo)\n"
      ],
      "metadata": {
        "id": "wYRsuXf0hQv8"
      }
    },
    {
      "cell_type": "code",
      "source": [
        "print(X_train.shape, X_val.shape, X_test.shape, Y_train.shape, Y_val.shape, Y_test.shape)"
      ],
      "metadata": {
        "colab": {
          "base_uri": "https://localhost:8080/"
        },
        "id": "kPnEo_4RhcZM",
        "outputId": "6e151c53-8790-4d0f-d220-9675b0f2942d"
      },
      "execution_count": null,
      "outputs": [
        {
          "output_type": "stream",
          "name": "stdout",
          "text": [
            "(70, 7) (15, 7) (15, 7) (70,) (15,) (15,)\n"
          ]
        }
      ]
    },
    {
      "cell_type": "code",
      "source": [
        "print(X,Y)"
      ],
      "metadata": {
        "colab": {
          "base_uri": "https://localhost:8080/"
        },
        "id": "Mp2SbcEvlSwe",
        "outputId": "8f5837f5-64a4-46aa-b8ec-54bbad56045f"
      },
      "execution_count": null,
      "outputs": [
        {
          "output_type": "stream",
          "name": "stdout",
          "text": [
            "[[False True False True True True True]\n",
            " [False False True True False True True]\n",
            " [True False True False False False False]\n",
            " [True True False True True False False]\n",
            " [False False True True False False True]\n",
            " [True False False True False True True]\n",
            " [True True False True False False True]\n",
            " [False True True False True False True]\n",
            " [True False True False True True True]\n",
            " [True True True True True False True]\n",
            " [False False True True False True False]\n",
            " [False True False False False False True]\n",
            " [True True True False False False False]\n",
            " [True True True False False True False]\n",
            " [True True False False False True False]\n",
            " [True False False True False False False]\n",
            " [False False True True True False True]\n",
            " [True False True False True False False]\n",
            " [False False False False False True True]\n",
            " [True False True True False False True]\n",
            " [True True True False True True False]\n",
            " [True True False False False False True]\n",
            " [True False False False False True True]\n",
            " [False True False False False False False]\n",
            " [False False True False False True True]\n",
            " [True False False True False True False]\n",
            " [True False True False True True True]\n",
            " [True True True True True False False]\n",
            " [True True True True True True False]\n",
            " [True False False True False False True]\n",
            " [False True True True False False False]\n",
            " [True False False False True True True]\n",
            " [False False False True True True False]\n",
            " [True False True False True False True]\n",
            " [False False True False False True True]\n",
            " [False True False False False False False]\n",
            " [True True False False False True False]\n",
            " [False False False True False False False]\n",
            " [True False False False True False True]\n",
            " [True True True True True False False]\n",
            " [True False True False True False True]\n",
            " [True True True False True True True]\n",
            " [False True False False False False True]\n",
            " [True True False False False False True]\n",
            " [False False False False True False True]\n",
            " [False False False True False True False]\n",
            " [True True True False False True False]\n",
            " [True False True True False True True]\n",
            " [True True True False True False True]\n",
            " [True True True True True False False]\n",
            " [False False True True False True False]\n",
            " [False True False False True True True]\n",
            " [False True False True True True True]\n",
            " [False True True True False False True]\n",
            " [True True True False False True True]\n",
            " [True False True True False True True]\n",
            " [True True False True True False False]\n",
            " [True True True False True True True]\n",
            " [True False True False True True True]\n",
            " [True False True False True False False]\n",
            " [False False False False True False False]\n",
            " [True False False False False False True]\n",
            " [False False True False True False True]\n",
            " [True True False True False True False]\n",
            " [False True True False False True True]\n",
            " [True False True False True False True]\n",
            " [False True True False True True False]\n",
            " [False False True False True False False]\n",
            " [True False True True False True True]\n",
            " [True False True True True True False]\n",
            " [False False False True True False False]\n",
            " [False False False True False True False]\n",
            " [True False False False True True False]\n",
            " [True True False True True False False]\n",
            " [False False False False True False False]\n",
            " [False False False True True False True]\n",
            " [True False True True False True False]\n",
            " [True True True True True False True]\n",
            " [False False True False False False True]\n",
            " [True False True False False False False]\n",
            " [True False True True False False True]\n",
            " [False False True False True False False]\n",
            " [True False True True False True False]\n",
            " [False True True True True True False]\n",
            " [True False True False True True False]\n",
            " [True True False True False True True]\n",
            " [False False True False True False False]\n",
            " [True True True True False True False]\n",
            " [True True True False False True False]\n",
            " [True True False True False True False]\n",
            " [True True True False False False True]\n",
            " [True True True False True True False]\n",
            " [True False False False True True False]\n",
            " [False False False True True False False]\n",
            " [False True False False False True True]\n",
            " [True True False False True False True]\n",
            " [True True False True True False True]\n",
            " [False False False False True True True]\n",
            " [False True True True False False False]\n",
            " [True False False False True False True]] ['c0' 'c0' 'c1' 'c0' 'c0' 'c1' 'c0' 'c1' 'c0' 'c1' 'c0' 'c0' 'c1' 'c1'\n",
            " 'c0' 'c0' 'c1' 'c0' 'c0' 'c1' 'c1' 'c0' 'c0' 'c0' 'c0' 'c0' 'c0' 'c1'\n",
            " 'c0' 'c0' 'c0' 'c0' 'c0' 'c1' 'c0' 'c0' 'c0' 'c0' 'c0' 'c1' 'c1' 'c0'\n",
            " 'c0' 'c0' 'c0' 'c0' 'c1' 'c1' 'c1' 'c0' 'c1' 'c0' 'c0' 'c1' 'c0' 'c0'\n",
            " 'c0' 'c1' 'c0' 'c1' 'c0' 'c0' 'c1' 'c0' 'c0' 'c1' 'c0' 'c0' 'c1' 'c1'\n",
            " 'c0' 'c0' 'c0' 'c0' 'c0' 'c0' 'c0' 'c1' 'c1' 'c1' 'c1' 'c1' 'c0' 'c0'\n",
            " 'c1' 'c1' 'c1' 'c0' 'c0' 'c0' 'c1' 'c1' 'c0' 'c0' 'c0' 'c0' 'c0' 'c0'\n",
            " 'c0' 'c0']\n"
          ]
        }
      ]
    },
    {
      "cell_type": "code",
      "source": [
        "from sklearn.metrics import confusion_matrix\n",
        "print(confusion_matrix(Y_val,Y_test))"
      ],
      "metadata": {
        "colab": {
          "base_uri": "https://localhost:8080/"
        },
        "id": "8J_1NOtPpN1Z",
        "outputId": "a4b2616c-3376-44e2-9b72-be317509eed5"
      },
      "execution_count": null,
      "outputs": [
        {
          "output_type": "stream",
          "name": "stdout",
          "text": [
            "[[5 4]\n",
            " [5 1]]\n"
          ]
        }
      ]
    },
    {
      "cell_type": "markdown",
      "source": [
        "En los  valores en el  ejemplo ( el 5 y el 3)  el 5 se refieren : a los falsos positivos de la clase 1,  arriba a la derecha:  , y el 3 a los falsos negativos  de la clase 2,  abajo izquierda:5)"
      ],
      "metadata": {
        "id": "7oKLWQ7Cpsuw"
      }
    },
    {
      "cell_type": "markdown",
      "source": [
        "Clase1=5 Clase2=3 como son casi no son iguales no es de fiabilidad"
      ],
      "metadata": {
        "id": "hBjdtb1hrgTx"
      }
    },
    {
      "cell_type": "code",
      "source": [
        "import statistics\n",
        "print(len(Y_test))\n",
        "#Confusion\n",
        "print(\"Lo que se considera aceptable =\",5+6/len(Y_test))\n",
        "def median(l):\n",
        "    half = len(l) // 2\n",
        "    l.sort()\n",
        "    if not len(l) % 2:\n",
        "        return (l[half - 1] + l[half]) / 2.0\n",
        "    return l[half]\n",
        "\n",
        "print(\"CALCULANDO =\",median(X))\n",
        "print(\"mediana\",np.median(X))"
      ],
      "metadata": {
        "colab": {
          "base_uri": "https://localhost:8080/"
        },
        "id": "gZK3KQs3p_P4",
        "outputId": "e5ccdf7b-787b-46f7-ff53-41331650adf8"
      },
      "execution_count": null,
      "outputs": [
        {
          "output_type": "stream",
          "name": "stdout",
          "text": [
            "15\n",
            "Lo que se considera aceptable = 5.4\n",
            "CALCULANDO = [0.0 0.0 0.5 0.5 1.0 1.0 1.0]\n",
            "mediana 1.0\n"
          ]
        }
      ]
    },
    {
      "cell_type": "markdown",
      "source": [
        "**EJERCICIO Nro 3**"
      ],
      "metadata": {
        "id": "bdZmpMFAwT2z"
      }
    },
    {
      "cell_type": "code",
      "source": [
        "import pandas as pd\n",
        "from math import log\n",
        "import operator\n",
        "dataset = pd.read_csv(\"/content/drive/MyDrive/pdatos/cpu.csv\")\n",
        "datos=dataset.values\n",
        "X = datos[:,3:10]\n",
        "Y = datos[:,10]\n",
        "list(dataset.columns.values)"
      ],
      "metadata": {
        "id": "PZxjMHo2wbai",
        "colab": {
          "base_uri": "https://localhost:8080/"
        },
        "outputId": "532c53c1-6d58-4204-e078-5269d9b0f80b"
      },
      "execution_count": null,
      "outputs": [
        {
          "output_type": "execute_result",
          "data": {
            "text/plain": [
              "['a0', 'a1', 'a2', 'a3', 'a4', 'a5', 'a6', 'a7', 'a8', 'a9', 'clase']"
            ]
          },
          "metadata": {},
          "execution_count": 290
        }
      ]
    },
    {
      "cell_type": "code",
      "source": [
        "print(X_scale)"
      ],
      "metadata": {
        "id": "EjNceeloyW59",
        "colab": {
          "base_uri": "https://localhost:8080/"
        },
        "outputId": "7d1327c4-3508-4d56-dad7-4f1811ac881c"
      },
      "execution_count": null,
      "outputs": [
        {
          "output_type": "stream",
          "name": "stdout",
          "text": [
            "[[0. 1. 0. 1. 1. 1. 1.]\n",
            " [0. 0. 1. 1. 0. 1. 1.]\n",
            " [1. 0. 1. 0. 0. 0. 0.]\n",
            " [1. 1. 0. 1. 1. 0. 0.]\n",
            " [0. 0. 1. 1. 0. 0. 1.]\n",
            " [1. 0. 0. 1. 0. 1. 1.]\n",
            " [1. 1. 0. 1. 0. 0. 1.]\n",
            " [0. 1. 1. 0. 1. 0. 1.]\n",
            " [1. 0. 1. 0. 1. 1. 1.]\n",
            " [1. 1. 1. 1. 1. 0. 1.]\n",
            " [0. 0. 1. 1. 0. 1. 0.]\n",
            " [0. 1. 0. 0. 0. 0. 1.]\n",
            " [1. 1. 1. 0. 0. 0. 0.]\n",
            " [1. 1. 1. 0. 0. 1. 0.]\n",
            " [1. 1. 0. 0. 0. 1. 0.]\n",
            " [1. 0. 0. 1. 0. 0. 0.]\n",
            " [0. 0. 1. 1. 1. 0. 1.]\n",
            " [1. 0. 1. 0. 1. 0. 0.]\n",
            " [0. 0. 0. 0. 0. 1. 1.]\n",
            " [1. 0. 1. 1. 0. 0. 1.]\n",
            " [1. 1. 1. 0. 1. 1. 0.]\n",
            " [1. 1. 0. 0. 0. 0. 1.]\n",
            " [1. 0. 0. 0. 0. 1. 1.]\n",
            " [0. 1. 0. 0. 0. 0. 0.]\n",
            " [0. 0. 1. 0. 0. 1. 1.]\n",
            " [1. 0. 0. 1. 0. 1. 0.]\n",
            " [1. 0. 1. 0. 1. 1. 1.]\n",
            " [1. 1. 1. 1. 1. 0. 0.]\n",
            " [1. 1. 1. 1. 1. 1. 0.]\n",
            " [1. 0. 0. 1. 0. 0. 1.]\n",
            " [0. 1. 1. 1. 0. 0. 0.]\n",
            " [1. 0. 0. 0. 1. 1. 1.]\n",
            " [0. 0. 0. 1. 1. 1. 0.]\n",
            " [1. 0. 1. 0. 1. 0. 1.]\n",
            " [0. 0. 1. 0. 0. 1. 1.]\n",
            " [0. 1. 0. 0. 0. 0. 0.]\n",
            " [1. 1. 0. 0. 0. 1. 0.]\n",
            " [0. 0. 0. 1. 0. 0. 0.]\n",
            " [1. 0. 0. 0. 1. 0. 1.]\n",
            " [1. 1. 1. 1. 1. 0. 0.]\n",
            " [1. 0. 1. 0. 1. 0. 1.]\n",
            " [1. 1. 1. 0. 1. 1. 1.]\n",
            " [0. 1. 0. 0. 0. 0. 1.]\n",
            " [1. 1. 0. 0. 0. 0. 1.]\n",
            " [0. 0. 0. 0. 1. 0. 1.]\n",
            " [0. 0. 0. 1. 0. 1. 0.]\n",
            " [1. 1. 1. 0. 0. 1. 0.]\n",
            " [1. 0. 1. 1. 0. 1. 1.]\n",
            " [1. 1. 1. 0. 1. 0. 1.]\n",
            " [1. 1. 1. 1. 1. 0. 0.]\n",
            " [0. 0. 1. 1. 0. 1. 0.]\n",
            " [0. 1. 0. 0. 1. 1. 1.]\n",
            " [0. 1. 0. 1. 1. 1. 1.]\n",
            " [0. 1. 1. 1. 0. 0. 1.]\n",
            " [1. 1. 1. 0. 0. 1. 1.]\n",
            " [1. 0. 1. 1. 0. 1. 1.]\n",
            " [1. 1. 0. 1. 1. 0. 0.]\n",
            " [1. 1. 1. 0. 1. 1. 1.]\n",
            " [1. 0. 1. 0. 1. 1. 1.]\n",
            " [1. 0. 1. 0. 1. 0. 0.]\n",
            " [0. 0. 0. 0. 1. 0. 0.]\n",
            " [1. 0. 0. 0. 0. 0. 1.]\n",
            " [0. 0. 1. 0. 1. 0. 1.]\n",
            " [1. 1. 0. 1. 0. 1. 0.]\n",
            " [0. 1. 1. 0. 0. 1. 1.]\n",
            " [1. 0. 1. 0. 1. 0. 1.]\n",
            " [0. 1. 1. 0. 1. 1. 0.]\n",
            " [0. 0. 1. 0. 1. 0. 0.]\n",
            " [1. 0. 1. 1. 0. 1. 1.]\n",
            " [1. 0. 1. 1. 1. 1. 0.]\n",
            " [0. 0. 0. 1. 1. 0. 0.]\n",
            " [0. 0. 0. 1. 0. 1. 0.]\n",
            " [1. 0. 0. 0. 1. 1. 0.]\n",
            " [1. 1. 0. 1. 1. 0. 0.]\n",
            " [0. 0. 0. 0. 1. 0. 0.]\n",
            " [0. 0. 0. 1. 1. 0. 1.]\n",
            " [1. 0. 1. 1. 0. 1. 0.]\n",
            " [1. 1. 1. 1. 1. 0. 1.]\n",
            " [0. 0. 1. 0. 0. 0. 1.]\n",
            " [1. 0. 1. 0. 0. 0. 0.]\n",
            " [1. 0. 1. 1. 0. 0. 1.]\n",
            " [0. 0. 1. 0. 1. 0. 0.]\n",
            " [1. 0. 1. 1. 0. 1. 0.]\n",
            " [0. 1. 1. 1. 1. 1. 0.]\n",
            " [1. 0. 1. 0. 1. 1. 0.]\n",
            " [1. 1. 0. 1. 0. 1. 1.]\n",
            " [0. 0. 1. 0. 1. 0. 0.]\n",
            " [1. 1. 1. 1. 0. 1. 0.]\n",
            " [1. 1. 1. 0. 0. 1. 0.]\n",
            " [1. 1. 0. 1. 0. 1. 0.]\n",
            " [1. 1. 1. 0. 0. 0. 1.]\n",
            " [1. 1. 1. 0. 1. 1. 0.]\n",
            " [1. 0. 0. 0. 1. 1. 0.]\n",
            " [0. 0. 0. 1. 1. 0. 0.]\n",
            " [0. 1. 0. 0. 0. 1. 1.]\n",
            " [1. 1. 0. 0. 1. 0. 1.]\n",
            " [1. 1. 0. 1. 1. 0. 1.]\n",
            " [0. 0. 0. 0. 1. 1. 1.]\n",
            " [0. 1. 1. 1. 0. 0. 0.]\n",
            " [1. 0. 0. 0. 1. 0. 1.]]\n"
          ]
        }
      ]
    },
    {
      "cell_type": "markdown",
      "source": [
        "La fórmula de cálculo para la entropía es "
      ],
      "metadata": {
        "id": "WSXqlm9b5BYW"
      }
    },
    {
      "cell_type": "markdown",
      "source": [
        "![entropia.jpg](data:image/jpeg;base64,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)"
      ],
      "metadata": {
        "id": "j34drY-Q5DUl"
      }
    },
    {
      "cell_type": "code",
      "source": [
        "def calcShannonEnt(dataSet):\n",
        "         num = len(dataSet) # \n",
        "         shannonEnt = 0.0 #Initialize entropy\n",
        "         labelCounts = {}\n",
        "         for element in dataset: \n",
        "                 label = element [-1] \n",
        "                 if label not in labelCounts: \n",
        "                    labelCounts[label] = 0\n",
        "                    labelCounts[label] += 1 #{ 'yes':2,'no':3 }\n",
        "                    for key in labelCounts:\n",
        "                      try:\n",
        "                        p = float(labelCounts[key]/num)\n",
        "                        shannonEnt = p * log (p, 2)  \n",
        "                      except ZeroDivisionError:\n",
        "                        print(\".o0\")\n",
        "                    return -shannonEnt"
      ],
      "metadata": {
        "id": "Jx-cW8TYyZYE"
      },
      "execution_count": null,
      "outputs": []
    },
    {
      "cell_type": "code",
      "source": [
        "datosb=X_scale.astype(int)\n",
        "#print(datosb)\n",
        "shan = calcShannonEnt(datosb)\n",
        "print( shan )"
      ],
      "metadata": {
        "id": "cKxBv8Y4ydp8",
        "colab": {
          "base_uri": "https://localhost:8080/"
        },
        "outputId": "5de5344b-c5e8-4b01-e816-3f933aa19744"
      },
      "execution_count": null,
      "outputs": [
        {
          "output_type": "stream",
          "name": "stdout",
          "text": [
            "0.06643856189774724\n"
          ]
        }
      ]
    },
    {
      "cell_type": "markdown",
      "source": [
        "**Luego, creamos un método splitDataSet para cortar nuestro conjunto de datos**"
      ],
      "metadata": {
        "id": "LsWHFMqJ5PyW"
      }
    },
    {
      "cell_type": "code",
      "source": [
        "def splitDataSet( dataSet,axis,value ):\n",
        "    result = []\n",
        "    for item in dataSet:     #  item:  [1,1,'yes']\n",
        "        if item[axis] == value:\n",
        "            r = item[:axis] + item[axis+1:]  # []+[1,'yes'] => r=> [1,'yes']\n",
        "            result.append(r)\n",
        "    return result"
      ],
      "metadata": {
        "id": "gjvTmr33fBlN"
      },
      "execution_count": null,
      "outputs": []
    },
    {
      "cell_type": "code",
      "source": [
        "datosb=X_scale.astype(int)\n",
        "result = splitDataSet(datosb,1,1 )\n",
        "print(result)\n",
        "result = splitDataSet( datosb,1,0 )\n",
        "print(result)"
      ],
      "metadata": {
        "id": "7mwqRuMHyiQ8",
        "colab": {
          "base_uri": "https://localhost:8080/"
        },
        "outputId": "f95b3a92-2c2b-4228-8e0c-15405fe43a77"
      },
      "execution_count": null,
      "outputs": [
        {
          "output_type": "stream",
          "name": "stdout",
          "text": [
            "[array([0, 1, 1, 1, 1]), array([1, 2, 2, 1, 1]), array([1, 2, 1, 1, 2]), array([1, 0, 1, 0, 1]), array([2, 2, 2, 1, 2]), array([0, 0, 0, 0, 1]), array([2, 1, 1, 1, 1]), array([2, 1, 1, 2, 1]), array([1, 1, 1, 2, 1]), array([2, 1, 2, 2, 1]), array([1, 1, 1, 1, 2]), array([0, 0, 0, 0, 0]), array([2, 2, 2, 1, 1]), array([2, 2, 2, 2, 1]), array([1, 1, 0, 0, 0]), array([0, 0, 0, 0, 0]), array([1, 1, 1, 2, 1]), array([2, 2, 2, 1, 1]), array([2, 1, 2, 2, 2]), array([0, 0, 0, 0, 1]), array([1, 1, 1, 1, 2]), array([2, 1, 1, 2, 1]), array([2, 1, 2, 1, 2]), array([2, 2, 2, 1, 1]), array([0, 0, 1, 1, 1]), array([0, 1, 1, 1, 1]), array([1, 1, 0, 0, 1]), array([2, 1, 1, 2, 2]), array([1, 2, 2, 1, 1]), array([2, 1, 2, 2, 2]), array([1, 2, 1, 2, 1]), array([1, 0, 0, 1, 1]), array([1, 0, 1, 1, 0]), array([1, 2, 2, 1, 1]), array([2, 2, 2, 1, 2]), array([1, 1, 1, 1, 0]), array([1, 2, 1, 2, 2]), array([2, 2, 1, 2, 1]), array([2, 1, 1, 2, 1]), array([1, 2, 1, 2, 1]), array([2, 1, 1, 1, 2]), array([2, 1, 2, 2, 1]), array([0, 0, 0, 1, 1]), array([1, 1, 2, 1, 2]), array([1, 2, 2, 1, 2]), array([1, 1, 0, 0, 0])]\n",
            "[array([1, 1, 0, 1, 1]), array([2, 1, 1, 1, 1]), array([1, 1, 0, 0, 1]), array([1, 2, 1, 2, 2]), array([2, 1, 2, 2, 2]), array([1, 1, 0, 1, 0]), array([1, 2, 1, 1, 1]), array([1, 1, 1, 0, 1]), array([2, 1, 2, 1, 1]), array([0, 0, 0, 1, 1]), array([2, 2, 1, 1, 2]), array([1, 1, 1, 2, 2]), array([1, 0, 0, 1, 1]), array([1, 2, 1, 2, 1]), array([2, 1, 2, 2, 2]), array([1, 2, 1, 1, 2]), array([1, 1, 2, 2, 2]), array([0, 1, 1, 1, 0]), array([2, 1, 2, 1, 2]), array([1, 0, 0, 1, 1]), array([0, 1, 0, 0, 0]), array([1, 1, 2, 1, 2]), array([2, 1, 2, 1, 2]), array([0, 0, 1, 0, 1]), array([0, 1, 0, 1, 0]), array([2, 2, 1, 2, 2]), array([1, 1, 0, 1, 0]), array([2, 2, 1, 2, 2]), array([2, 1, 2, 2, 2]), array([2, 1, 2, 1, 1]), array([0, 0, 1, 0, 0]), array([1, 1, 1, 1, 2]), array([1, 0, 1, 0, 1]), array([2, 1, 2, 1, 2]), array([1, 0, 1, 0, 0]), array([2, 2, 1, 2, 2]), array([2, 2, 2, 2, 1]), array([0, 1, 1, 0, 0]), array([0, 1, 0, 1, 0]), array([1, 1, 2, 2, 1]), array([0, 0, 1, 0, 0]), array([0, 1, 1, 0, 1]), array([2, 2, 1, 2, 1]), array([1, 0, 0, 0, 1]), array([2, 1, 1, 1, 1]), array([2, 2, 1, 1, 2]), array([1, 0, 1, 0, 0]), array([2, 2, 1, 2, 1]), array([2, 1, 2, 2, 1]), array([1, 0, 1, 0, 0]), array([1, 1, 2, 2, 1]), array([0, 1, 1, 0, 0]), array([0, 0, 1, 1, 1]), array([1, 1, 2, 1, 2])]\n"
          ]
        }
      ]
    },
    {
      "cell_type": "markdown",
      "source": [
        "**Laformula** de calculo de ganancia de informacion es **\n",
        "\n"
      ],
      "metadata": {
        "id": "D_rLTAoyk7A7"
      }
    },
    {
      "cell_type": "markdown",
      "source": [
        "![d415d5ffb7bb81ba2c5a182597d22011.jpg](data:image/jpeg;base64,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)"
      ],
      "metadata": {
        "id": "YbRwCjlZiZf7"
      }
    },
    {
      "cell_type": "markdown",
      "source": [
        "creamos la funcion chooseBestFeatures, que elige mejor camino"
      ],
      "metadata": {
        "id": "fkkdIjhbwztt"
      }
    },
    {
      "cell_type": "markdown",
      "source": [
        "![log.png](data:image/png;base64,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)"
      ],
      "metadata": {
        "id": "o3fqyMNm6Qfu"
      }
    },
    {
      "cell_type": "markdown",
      "source": [
        "entre ellos el dato de en el conjuto de datos actual "
      ],
      "metadata": {
        "id": "rw-2BNYg6DGm"
      }
    },
    {
      "cell_type": "code",
      "source": [
        "def chooseBestFeatures(dataSet):\n",
        "         numFeatures = len(dataSet[0])-1\n",
        "         ent = calcShannonEnt(dataSet)\n",
        "         bestGain = 1.1;\n",
        "         bestFeatureID = -1\n",
        "         infogain = 0.0;\n",
        "         for i in range(numFeatures):\n",
        "           list1 = [line[i] for line in dataSet]\n",
        "           uniqueValues=set(list1)\n",
        "           newEnt = 0.0 # Conditional entropy\n",
        "           s = 0.0\n",
        "           for value in uniqueValues:\n",
        "             \n",
        "              subDataSet = splitDataSet(dataSet,1,0)\n",
        "              prob = len(subDataSet)/float(len(dataSet))\n",
        "              newEnt += prob * calcShannonEnt(subDataSet)\n",
        "              try:\n",
        "                s -= prob * log(prob, 2);\n",
        "              except (ValueError, TypeError):\n",
        "                print(\"error_math 1-->0\")\n",
        "              print ('Informacion entropia:' + str (ent))\n",
        "              print ('puerto ' + str (i) + 'Entropia condicional:' + str (newEnt))\n",
        "              gain = ent - newEnt\n",
        "              print ('puerto ' + str (i) + 'ganancia de información de la columna es:' + str (gain))\n",
        "              infogain = gain / s # Find column info gain ratio\n",
        "              print ('puerto ' + str (i) + 'Relación de ganancia de información de la columna' + str (infogain))\n",
        "              if (infogain > bestGain):\n",
        "                bestGain = infogain\n",
        "                bestFeatureID = i\n",
        "         return bestFeatureID"
      ],
      "metadata": {
        "id": "f-PHVVuJlQFj"
      },
      "execution_count": null,
      "outputs": []
    },
    {
      "cell_type": "code",
      "source": [
        "datosb=X_scale.astype(int)\n",
        "index = chooseBestFeatures(datosb)\n",
        "print(index)"
      ],
      "metadata": {
        "colab": {
          "base_uri": "https://localhost:8080/"
        },
        "id": "ieUin44Xk2XL",
        "outputId": "eb8d4232-75a9-407a-fe94-0fff44d6671a"
      },
      "execution_count": null,
      "outputs": [
        {
          "output_type": "stream",
          "name": "stdout",
          "text": [
            "Informacion entropia:0.06643856189774724\n",
            "puerto 0Entropia condicional:0.05754887502163469\n",
            "puerto 0ganancia de información de la columna es:0.008889686876112551\n",
            "puerto 0Relación de ganancia de información de la columna0.018518518518518497\n",
            "Informacion entropia:0.06643856189774724\n",
            "puerto 0Entropia condicional:0.11509775004326939\n",
            "puerto 0ganancia de información de la columna es:-0.04865918814552214\n",
            "puerto 0Relación de ganancia de información de la columna-0.05068210440517651\n",
            "Informacion entropia:0.06643856189774724\n",
            "puerto 1Entropia condicional:0.05754887502163469\n",
            "puerto 1ganancia de información de la columna es:0.008889686876112551\n",
            "puerto 1Relación de ganancia de información de la columna0.018518518518518497\n",
            "Informacion entropia:0.06643856189774724\n",
            "puerto 1Entropia condicional:0.11509775004326939\n",
            "puerto 1ganancia de información de la columna es:-0.04865918814552214\n",
            "puerto 1Relación de ganancia de información de la columna-0.05068210440517651\n",
            "Informacion entropia:0.06643856189774724\n",
            "puerto 2Entropia condicional:0.05754887502163469\n",
            "puerto 2ganancia de información de la columna es:0.008889686876112551\n",
            "puerto 2Relación de ganancia de información de la columna0.018518518518518497\n",
            "Informacion entropia:0.06643856189774724\n",
            "puerto 2Entropia condicional:0.11509775004326939\n",
            "puerto 2ganancia de información de la columna es:-0.04865918814552214\n",
            "puerto 2Relación de ganancia de información de la columna-0.05068210440517651\n",
            "Informacion entropia:0.06643856189774724\n",
            "puerto 3Entropia condicional:0.05754887502163469\n",
            "puerto 3ganancia de información de la columna es:0.008889686876112551\n",
            "puerto 3Relación de ganancia de información de la columna0.018518518518518497\n",
            "Informacion entropia:0.06643856189774724\n",
            "puerto 3Entropia condicional:0.11509775004326939\n",
            "puerto 3ganancia de información de la columna es:-0.04865918814552214\n",
            "puerto 3Relación de ganancia de información de la columna-0.05068210440517651\n",
            "Informacion entropia:0.06643856189774724\n",
            "puerto 4Entropia condicional:0.05754887502163469\n",
            "puerto 4ganancia de información de la columna es:0.008889686876112551\n",
            "puerto 4Relación de ganancia de información de la columna0.018518518518518497\n",
            "Informacion entropia:0.06643856189774724\n",
            "puerto 4Entropia condicional:0.11509775004326939\n",
            "puerto 4ganancia de información de la columna es:-0.04865918814552214\n",
            "puerto 4Relación de ganancia de información de la columna-0.05068210440517651\n",
            "Informacion entropia:0.06643856189774724\n",
            "puerto 5Entropia condicional:0.05754887502163469\n",
            "puerto 5ganancia de información de la columna es:0.008889686876112551\n",
            "puerto 5Relación de ganancia de información de la columna0.018518518518518497\n",
            "Informacion entropia:0.06643856189774724\n",
            "puerto 5Entropia condicional:0.11509775004326939\n",
            "puerto 5ganancia de información de la columna es:-0.04865918814552214\n",
            "puerto 5Relación de ganancia de información de la columna-0.05068210440517651\n",
            "-1\n"
          ]
        }
      ]
    },
    {
      "cell_type": "code",
      "source": [
        "def classNum( classList ):\n",
        "  classCount = {}\n",
        "  for label in classList:\n",
        "    classCount[label] = classCount.get(label,0) + 1\n",
        "    sortedClassCount = sorted( classCount.items(),key=operator.itemgetter(1),reverse=True )\n",
        "    print( sortedClassCount )\n",
        "    return sortedClassCount[0][0]"
      ],
      "metadata": {
        "id": "D_5lRLKpqKh8"
      },
      "execution_count": null,
      "outputs": []
    },
    {
      "cell_type": "code",
      "source": [
        "def createTree(dataSet,labels,depth=0,max_f=None,max_depth=None):\n",
        "  classList = [example[-1] for example in dataSet]  # ['yes','yes','yes','no','no','no','yes','no']\n",
        "  if classList.count(classList[0]) == len(classList):\n",
        "    return classList[0]  \n",
        "  if max_f == None:\n",
        "    max_f = 1\n",
        "  if len( dataSet[0] )<=max_f:\n",
        "    return classNum (classList) # Devuelve la etiqueta con más cantidad\n",
        "  if max_depth!=None:\n",
        "    if depth>=max_depth:\n",
        "      return classNum(classList)\n",
        "  depth = depth + 1\n",
        "  bestFeat = chooseBestFeatures(dataSet)    # bestFeat: 0      bestFeat: 0\n",
        "  bestFeatLabel = labels[bestFeat]\n",
        "  myTree = {bestFeatLabel: {}} # La mejor característica seleccionada en el conjunto de datos actual se almacena en bestFeat\n",
        "  del (labels [bestFeat]) # eliminar las funciones que se han seleccionado en este momento etiquetas = ['hay un auto']\n",
        "  featValues = [example[bestFeat] for example in dataSet]\n",
        "  uniqueVals = set(featValues)   # [1,0]\n",
        "  for value in uniqueVals:\n",
        "    subLabels = labels[:]\n",
        "    temp = splitDataSet( dataSet,1,0)\n",
        "    myTree[bestFeatLabel][value] = createTree(temp,subLabels,depth=depth,max_f=max_f,max_depth=max_depth)\n",
        "  return myTree"
      ],
      "metadata": {
        "id": "npiSgW7zq4eF"
      },
      "execution_count": null,
      "outputs": []
    },
    {
      "cell_type": "code",
      "source": [
        "datosa=list(dataset.columns.values)\n",
        "datosb=X_scale.astype(int)\n",
        "createTree(X,datosa,1,3,3)"
      ],
      "metadata": {
        "colab": {
          "base_uri": "https://localhost:8080/"
        },
        "id": "Tan_eStHrpfU",
        "outputId": "1db0ed3d-ad4f-410e-cd17-daca51e43c1f"
      },
      "execution_count": null,
      "outputs": [
        {
          "output_type": "stream",
          "name": "stdout",
          "text": [
            "Informacion entropia:0.06643856189774724\n",
            "puerto 0Entropia condicional:0.05754887502163469\n",
            "puerto 0ganancia de información de la columna es:0.008889686876112551\n",
            "puerto 0Relación de ganancia de información de la columna0.018518518518518497\n",
            "Informacion entropia:0.06643856189774724\n",
            "puerto 0Entropia condicional:0.11509775004326939\n",
            "puerto 0ganancia de información de la columna es:-0.04865918814552214\n",
            "puerto 0Relación de ganancia de información de la columna-0.05068210440517651\n",
            "Informacion entropia:0.06643856189774724\n",
            "puerto 1Entropia condicional:0.05754887502163469\n",
            "puerto 1ganancia de información de la columna es:0.008889686876112551\n",
            "puerto 1Relación de ganancia de información de la columna0.018518518518518497\n",
            "Informacion entropia:0.06643856189774724\n",
            "puerto 1Entropia condicional:0.11509775004326939\n",
            "puerto 1ganancia de información de la columna es:-0.04865918814552214\n",
            "puerto 1Relación de ganancia de información de la columna-0.05068210440517651\n",
            "Informacion entropia:0.06643856189774724\n",
            "puerto 2Entropia condicional:0.05754887502163469\n",
            "puerto 2ganancia de información de la columna es:0.008889686876112551\n",
            "puerto 2Relación de ganancia de información de la columna0.018518518518518497\n",
            "Informacion entropia:0.06643856189774724\n",
            "puerto 2Entropia condicional:0.11509775004326939\n",
            "puerto 2ganancia de información de la columna es:-0.04865918814552214\n",
            "puerto 2Relación de ganancia de información de la columna-0.05068210440517651\n",
            "Informacion entropia:0.06643856189774724\n",
            "puerto 3Entropia condicional:0.05754887502163469\n",
            "puerto 3ganancia de información de la columna es:0.008889686876112551\n",
            "puerto 3Relación de ganancia de información de la columna0.018518518518518497\n",
            "Informacion entropia:0.06643856189774724\n",
            "puerto 3Entropia condicional:0.11509775004326939\n",
            "puerto 3ganancia de información de la columna es:-0.04865918814552214\n",
            "puerto 3Relación de ganancia de información de la columna-0.05068210440517651\n",
            "Informacion entropia:0.06643856189774724\n",
            "puerto 4Entropia condicional:0.05754887502163469\n",
            "puerto 4ganancia de información de la columna es:0.008889686876112551\n",
            "puerto 4Relación de ganancia de información de la columna0.018518518518518497\n",
            "Informacion entropia:0.06643856189774724\n",
            "puerto 4Entropia condicional:0.11509775004326939\n",
            "puerto 4ganancia de información de la columna es:-0.04865918814552214\n",
            "puerto 4Relación de ganancia de información de la columna-0.05068210440517651\n",
            "Informacion entropia:0.06643856189774724\n",
            "puerto 5Entropia condicional:0.05754887502163469\n",
            "puerto 5ganancia de información de la columna es:0.008889686876112551\n",
            "puerto 5Relación de ganancia de información de la columna0.018518518518518497\n",
            "Informacion entropia:0.06643856189774724\n",
            "puerto 5Entropia condicional:0.11509775004326939\n",
            "puerto 5ganancia de información de la columna es:-0.04865918814552214\n",
            "puerto 5Relación de ganancia de información de la columna-0.05068210440517651\n",
            "Informacion entropia:0.10657199078080498\n",
            "puerto 0Entropia condicional:0.06638819445779919\n",
            "puerto 0ganancia de información de la columna es:0.040183796323005797\n",
            "puerto 0Relación de ganancia de información de la columna0.08333333333333336\n",
            "Informacion entropia:0.10657199078080498\n",
            "puerto 0Entropia condicional:0.13277638891559837\n",
            "puerto 0ganancia de información de la columna es:-0.02620439813479339\n",
            "puerto 0Relación de ganancia de información de la columna-0.02717139798108021\n",
            "Informacion entropia:0.10657199078080498\n",
            "puerto 0Entropia condicional:0.19916458337339754\n",
            "puerto 0ganancia de información de la columna es:-0.09259259259259256\n",
            "puerto 0Relación de ganancia de información de la columna-0.06400630841921805\n",
            "Informacion entropia:0.10657199078080498\n",
            "puerto 1Entropia condicional:0.06638819445779919\n",
            "puerto 1ganancia de información de la columna es:0.040183796323005797\n",
            "puerto 1Relación de ganancia de información de la columna0.08333333333333336\n",
            "Informacion entropia:0.10657199078080498\n",
            "puerto 1Entropia condicional:0.13277638891559837\n",
            "puerto 1ganancia de información de la columna es:-0.02620439813479339\n",
            "puerto 1Relación de ganancia de información de la columna-0.02717139798108021\n",
            "Informacion entropia:0.10657199078080498\n",
            "puerto 1Entropia condicional:0.19916458337339754\n",
            "puerto 1ganancia de información de la columna es:-0.09259259259259256\n",
            "puerto 1Relación de ganancia de información de la columna-0.06400630841921805\n",
            "Informacion entropia:0.10657199078080498\n",
            "puerto 2Entropia condicional:0.06638819445779919\n",
            "puerto 2ganancia de información de la columna es:0.040183796323005797\n",
            "puerto 2Relación de ganancia de información de la columna0.08333333333333336\n",
            "Informacion entropia:0.10657199078080498\n",
            "puerto 2Entropia condicional:0.13277638891559837\n",
            "puerto 2ganancia de información de la columna es:-0.02620439813479339\n",
            "puerto 2Relación de ganancia de información de la columna-0.02717139798108021\n",
            "Informacion entropia:0.10657199078080498\n",
            "puerto 2Entropia condicional:0.19916458337339754\n",
            "puerto 2ganancia de información de la columna es:-0.09259259259259256\n",
            "puerto 2Relación de ganancia de información de la columna-0.06400630841921805\n",
            "Informacion entropia:0.10657199078080498\n",
            "puerto 3Entropia condicional:0.06638819445779919\n",
            "puerto 3ganancia de información de la columna es:0.040183796323005797\n",
            "puerto 3Relación de ganancia de información de la columna0.08333333333333336\n",
            "Informacion entropia:0.10657199078080498\n",
            "puerto 3Entropia condicional:0.13277638891559837\n",
            "puerto 3ganancia de información de la columna es:-0.02620439813479339\n",
            "puerto 3Relación de ganancia de información de la columna-0.02717139798108021\n",
            "Informacion entropia:0.10657199078080498\n",
            "puerto 3Entropia condicional:0.19916458337339754\n",
            "puerto 3ganancia de información de la columna es:-0.09259259259259256\n",
            "puerto 3Relación de ganancia de información de la columna-0.06400630841921805\n",
            "[(1, 1)]\n",
            "[(1, 1)]\n",
            "[(1, 1)]\n",
            "Informacion entropia:0.10657199078080498\n",
            "puerto 0Entropia condicional:0.06638819445779919\n",
            "puerto 0ganancia de información de la columna es:0.040183796323005797\n",
            "puerto 0Relación de ganancia de información de la columna0.08333333333333336\n",
            "Informacion entropia:0.10657199078080498\n",
            "puerto 0Entropia condicional:0.13277638891559837\n",
            "puerto 0ganancia de información de la columna es:-0.02620439813479339\n",
            "puerto 0Relación de ganancia de información de la columna-0.02717139798108021\n",
            "Informacion entropia:0.10657199078080498\n",
            "puerto 0Entropia condicional:0.19916458337339754\n",
            "puerto 0ganancia de información de la columna es:-0.09259259259259256\n",
            "puerto 0Relación de ganancia de información de la columna-0.06400630841921805\n",
            "Informacion entropia:0.10657199078080498\n",
            "puerto 1Entropia condicional:0.06638819445779919\n",
            "puerto 1ganancia de información de la columna es:0.040183796323005797\n",
            "puerto 1Relación de ganancia de información de la columna0.08333333333333336\n",
            "Informacion entropia:0.10657199078080498\n",
            "puerto 1Entropia condicional:0.13277638891559837\n",
            "puerto 1ganancia de información de la columna es:-0.02620439813479339\n",
            "puerto 1Relación de ganancia de información de la columna-0.02717139798108021\n",
            "Informacion entropia:0.10657199078080498\n",
            "puerto 1Entropia condicional:0.19916458337339754\n",
            "puerto 1ganancia de información de la columna es:-0.09259259259259256\n",
            "puerto 1Relación de ganancia de información de la columna-0.06400630841921805\n",
            "Informacion entropia:0.10657199078080498\n",
            "puerto 2Entropia condicional:0.06638819445779919\n",
            "puerto 2ganancia de información de la columna es:0.040183796323005797\n",
            "puerto 2Relación de ganancia de información de la columna0.08333333333333336\n",
            "Informacion entropia:0.10657199078080498\n",
            "puerto 2Entropia condicional:0.13277638891559837\n",
            "puerto 2ganancia de información de la columna es:-0.02620439813479339\n",
            "puerto 2Relación de ganancia de información de la columna-0.02717139798108021\n",
            "Informacion entropia:0.10657199078080498\n",
            "puerto 2Entropia condicional:0.19916458337339754\n",
            "puerto 2ganancia de información de la columna es:-0.09259259259259256\n",
            "puerto 2Relación de ganancia de información de la columna-0.06400630841921805\n",
            "Informacion entropia:0.10657199078080498\n",
            "puerto 3Entropia condicional:0.06638819445779919\n",
            "puerto 3ganancia de información de la columna es:0.040183796323005797\n",
            "puerto 3Relación de ganancia de información de la columna0.08333333333333336\n",
            "Informacion entropia:0.10657199078080498\n",
            "puerto 3Entropia condicional:0.13277638891559837\n",
            "puerto 3ganancia de información de la columna es:-0.02620439813479339\n",
            "puerto 3Relación de ganancia de información de la columna-0.02717139798108021\n",
            "Informacion entropia:0.10657199078080498\n",
            "puerto 3Entropia condicional:0.19916458337339754\n",
            "puerto 3ganancia de información de la columna es:-0.09259259259259256\n",
            "puerto 3Relación de ganancia de información de la columna-0.06400630841921805\n",
            "[(1, 1)]\n",
            "[(1, 1)]\n",
            "[(1, 1)]\n"
          ]
        },
        {
          "output_type": "execute_result",
          "data": {
            "text/plain": [
              "{'clase': {False: {'a9': {0: 1, 1: 1, 2: 1}},\n",
              "  True: {'a9': {0: 1, 1: 1, 2: 1}}}}"
            ]
          },
          "metadata": {},
          "execution_count": 330
        }
      ]
    },
    {
      "cell_type": "markdown",
      "source": [
        "**El árbol de decisión se clasifica dos veces, la primera vez se divide entre \"si es falso\" y la segunda vez se divide entre \"si es verdad\"**"
      ],
      "metadata": {
        "id": "4v56Gct08vwG"
      }
    }
  ]
}